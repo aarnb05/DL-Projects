{
 "cells": [
  {
   "cell_type": "markdown",
   "metadata": {},
   "source": [
    "## Here we are specifically using EMNIST letter dataset. So Let's get started"
   ]
  },
  {
   "cell_type": "code",
   "execution_count": 1,
   "metadata": {
    "_cell_guid": "b1076dfc-b9ad-4769-8c92-a6c4dae69d19",
    "_kg_hide-output": true,
    "_uuid": "8f2839f25d086af736a60e9eeb907d3b93b6e0e5",
    "execution": {
     "iopub.execute_input": "2025-01-14T09:56:04.950649Z",
     "iopub.status.busy": "2025-01-14T09:56:04.950298Z",
     "iopub.status.idle": "2025-01-14T09:56:04.987897Z",
     "shell.execute_reply": "2025-01-14T09:56:04.986590Z",
     "shell.execute_reply.started": "2025-01-14T09:56:04.950592Z"
    },
    "trusted": true
   },
   "outputs": [
    {
     "name": "stdout",
     "output_type": "stream",
     "text": [
      "/kaggle/input/emnist/emnist-letters-mapping.txt\n",
      "/kaggle/input/emnist/emnist-letters-test.csv\n",
      "/kaggle/input/emnist/emnist-mnist-mapping.txt\n",
      "/kaggle/input/emnist/emnist-digits-train.csv\n",
      "/kaggle/input/emnist/emnist-bymerge-mapping.txt\n",
      "/kaggle/input/emnist/emnist-balanced-train.csv\n",
      "/kaggle/input/emnist/emnist-digits-test.csv\n",
      "/kaggle/input/emnist/emnist-balanced-test.csv\n",
      "/kaggle/input/emnist/emnist-mnist-test.csv\n",
      "/kaggle/input/emnist/emnist-letters-train.csv\n",
      "/kaggle/input/emnist/emnist-byclass-train.csv\n",
      "/kaggle/input/emnist/emnist-bymerge-test.csv\n",
      "/kaggle/input/emnist/emnist-balanced-mapping.txt\n",
      "/kaggle/input/emnist/emnist-mnist-train.csv\n",
      "/kaggle/input/emnist/emnist-digits-mapping.txt\n",
      "/kaggle/input/emnist/emnist-bymerge-train.csv\n",
      "/kaggle/input/emnist/emnist-byclass-test.csv\n",
      "/kaggle/input/emnist/emnist-byclass-mapping.txt\n",
      "/kaggle/input/emnist/emnist_source_files/emnist-digits-test-labels-idx1-ubyte\n",
      "/kaggle/input/emnist/emnist_source_files/emnist-bymerge-train-labels-idx1-ubyte\n",
      "/kaggle/input/emnist/emnist_source_files/emnist-letters-test-labels-idx1-ubyte\n",
      "/kaggle/input/emnist/emnist_source_files/emnist-byclass-train-images-idx3-ubyte\n",
      "/kaggle/input/emnist/emnist_source_files/emnist-byclass-test-images-idx3-ubyte\n",
      "/kaggle/input/emnist/emnist_source_files/emnist-mnist-train-images-idx3-ubyte\n",
      "/kaggle/input/emnist/emnist_source_files/emnist-digits-train-labels-idx1-ubyte\n",
      "/kaggle/input/emnist/emnist_source_files/emnist-bymerge-test-images-idx3-ubyte\n",
      "/kaggle/input/emnist/emnist_source_files/emnist-bymerge-test-labels-idx1-ubyte\n",
      "/kaggle/input/emnist/emnist_source_files/emnist-mnist-test-labels-idx1-ubyte\n",
      "/kaggle/input/emnist/emnist_source_files/emnist-balanced-test-labels-idx1-ubyte\n",
      "/kaggle/input/emnist/emnist_source_files/emnist-balanced-test-images-idx3-ubyte\n",
      "/kaggle/input/emnist/emnist_source_files/emnist-mnist-test-images-idx3-ubyte\n",
      "/kaggle/input/emnist/emnist_source_files/emnist-bymerge-train-images-idx3-ubyte\n",
      "/kaggle/input/emnist/emnist_source_files/emnist-letters-train-labels-idx1-ubyte\n",
      "/kaggle/input/emnist/emnist_source_files/emnist-digits-train-images-idx3-ubyte\n",
      "/kaggle/input/emnist/emnist_source_files/emnist-byclass-train-labels-idx1-ubyte\n",
      "/kaggle/input/emnist/emnist_source_files/emnist-balanced-train-images-idx3-ubyte\n",
      "/kaggle/input/emnist/emnist_source_files/emnist-balanced-train-labels-idx1-ubyte\n",
      "/kaggle/input/emnist/emnist_source_files/emnist-letters-test-images-idx3-ubyte\n",
      "/kaggle/input/emnist/emnist_source_files/emnist-byclass-test-labels-idx1-ubyte\n",
      "/kaggle/input/emnist/emnist_source_files/emnist-letters-train-images-idx3-ubyte\n",
      "/kaggle/input/emnist/emnist_source_files/emnist-mnist-train-labels-idx1-ubyte\n",
      "/kaggle/input/emnist/emnist_source_files/emnist-digits-test-images-idx3-ubyte\n"
     ]
    }
   ],
   "source": [
    "# This Python 3 environment comes with many helpful analytics libraries installed\n",
    "# It is defined by the kaggle/python Docker image: https://github.com/kaggle/docker-python\n",
    "# For example, here's several helpful packages to load\n",
    "\n",
    "import numpy as np # linear algebra\n",
    "import pandas as pd # data processing, CSV file I/O (e.g. pd.read_csv)\n",
    "\n",
    "# Input data files are available in the read-only \"../input/\" directory\n",
    "# For example, running this (by clicking run or pressing Shift+Enter) will list all files under the input directory\n",
    "\n",
    "import os\n",
    "for dirname, _, filenames in os.walk('/kaggle/input'):\n",
    "    for filename in filenames:\n",
    "        print(os.path.join(dirname, filename))\n",
    "\n",
    "# You can write up to 5GB to the current directory (/kaggle/working/) that gets preserved as output when you create a version using \"Save & Run All\" \n",
    "# You can also write temporary files to /kaggle/temp/, but they won't be saved outside of the current session"
   ]
  },
  {
   "cell_type": "code",
   "execution_count": 3,
   "metadata": {
    "_cell_guid": "79c7e3d0-c299-4dcb-8224-4455121ee9b0",
    "_uuid": "d629ff2d2480ee46fbb7e2d37f6b5fab8052498a",
    "execution": {
     "iopub.execute_input": "2025-01-14T09:58:52.880236Z",
     "iopub.status.busy": "2025-01-14T09:58:52.879795Z",
     "iopub.status.idle": "2025-01-14T09:58:57.688693Z",
     "shell.execute_reply": "2025-01-14T09:58:57.687886Z",
     "shell.execute_reply.started": "2025-01-14T09:58:52.880181Z"
    },
    "trusted": true
   },
   "outputs": [],
   "source": [
    "#/kaggle/input/emnist/emnist-letters-mapping.txt\n",
    "testing_letter = pd.read_csv('/kaggle/input/emnist/emnist-letters-test.csv')\n",
    "training_letter = pd.read_csv('/kaggle/input/emnist/emnist-letters-train.csv')"
   ]
  },
  {
   "cell_type": "code",
   "execution_count": 4,
   "metadata": {
    "execution": {
     "iopub.execute_input": "2025-01-14T09:58:57.690972Z",
     "iopub.status.busy": "2025-01-14T09:58:57.690590Z",
     "iopub.status.idle": "2025-01-14T09:58:57.694993Z",
     "shell.execute_reply": "2025-01-14T09:58:57.694304Z",
     "shell.execute_reply.started": "2025-01-14T09:58:57.690797Z"
    },
    "trusted": true
   },
   "outputs": [
    {
     "name": "stdout",
     "output_type": "stream",
     "text": [
      "(88799, 785)\n",
      "(14799, 785)\n"
     ]
    }
   ],
   "source": [
    "print(training_letter.shape)\n",
    "print(testing_letter.shape)"
   ]
  },
  {
   "cell_type": "code",
   "execution_count": 5,
   "metadata": {
    "execution": {
     "iopub.execute_input": "2025-01-14T09:58:57.696268Z",
     "iopub.status.busy": "2025-01-14T09:58:57.696024Z",
     "iopub.status.idle": "2025-01-14T09:58:57.944956Z",
     "shell.execute_reply": "2025-01-14T09:58:57.944055Z",
     "shell.execute_reply.started": "2025-01-14T09:58:57.696232Z"
    },
    "trusted": true
   },
   "outputs": [
    {
     "name": "stdout",
     "output_type": "stream",
     "text": [
      "(88799,)\n",
      "(88799, 784)\n"
     ]
    }
   ],
   "source": [
    "#training_letters\n",
    "y1 = np.array(training_letter.iloc[:,0].values)\n",
    "x1 = np.array(training_letter.iloc[:,1:].values)\n",
    "#testing_labels\n",
    "y2 = np.array(testing_letter.iloc[:,0].values)\n",
    "x2 = np.array(testing_letter.iloc[:,1:].values)\n",
    "print(y1.shape)\n",
    "print(x1.shape)"
   ]
  },
  {
   "cell_type": "markdown",
   "metadata": {},
   "source": [
    "## Let's see what type of images we have got. "
   ]
  },
  {
   "cell_type": "code",
   "execution_count": 6,
   "metadata": {
    "execution": {
     "iopub.execute_input": "2025-01-14T09:58:57.946443Z",
     "iopub.status.busy": "2025-01-14T09:58:57.946207Z",
     "iopub.status.idle": "2025-01-14T09:58:59.140508Z",
     "shell.execute_reply": "2025-01-14T09:58:59.139592Z",
     "shell.execute_reply.started": "2025-01-14T09:58:57.946405Z"
    },
    "trusted": true
   },
   "outputs": [
    {
     "data": {
      "image/png": "[encoded data removed]",
      "text/plain": [
       "<Figure size 720x576 with 15 Axes>"
      ]
     },
     "metadata": {
      "needs_background": "light"
     },
     "output_type": "display_data"
    }
   ],
   "source": [
    "import matplotlib.pyplot as plt \n",
    "fig,axes = plt.subplots(3,5,figsize=(10,8))\n",
    "for i,ax in enumerate(axes.flat):\n",
    "    ax.imshow(x1[i].reshape([28,28]))\n"
   ]
  },
  {
   "cell_type": "code",
   "execution_count": 7,
   "metadata": {
    "execution": {
     "iopub.execute_input": "2025-01-14T09:58:59.143964Z",
     "iopub.status.busy": "2025-01-14T09:58:59.143594Z",
     "iopub.status.idle": "2025-01-14T09:59:03.280091Z",
     "shell.execute_reply": "2025-01-14T09:59:03.279422Z",
     "shell.execute_reply.started": "2025-01-14T09:58:59.143907Z"
    },
    "trusted": true
   },
   "outputs": [],
   "source": [
    "import tensorflow as tf"
   ]
  },
  {
   "cell_type": "code",
   "execution_count": 8,
   "metadata": {
    "execution": {
     "iopub.execute_input": "2025-01-14T09:59:03.282174Z",
     "iopub.status.busy": "2025-01-14T09:59:03.281792Z",
     "iopub.status.idle": "2025-01-14T09:59:03.523279Z",
     "shell.execute_reply": "2025-01-14T09:59:03.522627Z",
     "shell.execute_reply.started": "2025-01-14T09:59:03.282118Z"
    },
    "trusted": true
   },
   "outputs": [],
   "source": [
    "# Normalise and reshape data\n",
    "train_images = x1 / 255.0\n",
    "test_images = x2 / 255.0\n",
    "\n",
    "train_images_number = train_images.shape[0]\n",
    "train_images_height = 28\n",
    "train_images_width = 28\n",
    "train_images_size = train_images_height*train_images_width\n",
    "\n",
    "train_images = train_images.reshape(train_images_number, train_images_height, train_images_width, 1)\n",
    "\n",
    "test_images_number = test_images.shape[0]\n",
    "test_images_height = 28\n",
    "test_images_width = 28\n",
    "test_images_size = test_images_height*test_images_width\n",
    "\n",
    "test_images = test_images.reshape(test_images_number, test_images_height, test_images_width, 1)"
   ]
  },
  {
   "cell_type": "code",
   "execution_count": 9,
   "metadata": {
    "execution": {
     "iopub.execute_input": "2025-01-14T09:59:03.524775Z",
     "iopub.status.busy": "2025-01-14T09:59:03.524491Z",
     "iopub.status.idle": "2025-01-14T09:59:03.637354Z",
     "shell.execute_reply": "2025-01-14T09:59:03.636606Z",
     "shell.execute_reply.started": "2025-01-14T09:59:03.524728Z"
    },
    "trusted": true
   },
   "outputs": [],
   "source": [
    "# Transform labels\n",
    "number_of_classes = 37\n",
    "\n",
    "y1 = tf.keras.utils.to_categorical(y1, number_of_classes)\n",
    "y2 = tf.keras.utils.to_categorical(y2, number_of_classes)"
   ]
  },
  {
   "cell_type": "code",
   "execution_count": 10,
   "metadata": {
    "execution": {
     "iopub.execute_input": "2025-01-14T09:59:03.639021Z",
     "iopub.status.busy": "2025-01-14T09:59:03.638640Z",
     "iopub.status.idle": "2025-01-14T09:59:03.659196Z",
     "shell.execute_reply": "2025-01-14T09:59:03.658650Z",
     "shell.execute_reply.started": "2025-01-14T09:59:03.638966Z"
    },
    "trusted": true
   },
   "outputs": [],
   "source": [
    "#from tensorflow.keras.preprocessing.image import ImageDataGenerator\n",
    "#from tensorflow.keras.models import Model\n",
    "#from tensorflow.keras.layers import Dense,Dropout,MaxPooling2D,Conv2D\n",
    "from tensorflow.keras.callbacks import EarlyStopping, ReduceLROnPlateau,ModelCheckpoint"
   ]
  },
  {
   "cell_type": "code",
   "execution_count": 11,
   "metadata": {
    "execution": {
     "iopub.execute_input": "2025-01-14T09:59:03.660381Z",
     "iopub.status.busy": "2025-01-14T09:59:03.660161Z",
     "iopub.status.idle": "2025-01-14T09:59:04.132240Z",
     "shell.execute_reply": "2025-01-14T09:59:04.131492Z",
     "shell.execute_reply.started": "2025-01-14T09:59:03.660347Z"
    },
    "trusted": true
   },
   "outputs": [],
   "source": [
    "from sklearn.model_selection import train_test_split"
   ]
  },
  {
   "cell_type": "code",
   "execution_count": 12,
   "metadata": {
    "execution": {
     "iopub.execute_input": "2025-01-14T09:59:04.133782Z",
     "iopub.status.busy": "2025-01-14T09:59:04.133539Z",
     "iopub.status.idle": "2025-01-14T09:59:04.912740Z",
     "shell.execute_reply": "2025-01-14T09:59:04.912104Z",
     "shell.execute_reply.started": "2025-01-14T09:59:04.133747Z"
    },
    "trusted": true
   },
   "outputs": [],
   "source": [
    "train_x,test_x,train_y,test_y = train_test_split(train_images,y1,test_size=0.2,random_state = 42)"
   ]
  },
  {
   "cell_type": "code",
   "execution_count": 13,
   "metadata": {
    "execution": {
     "iopub.execute_input": "2025-01-14T09:59:04.914316Z",
     "iopub.status.busy": "2025-01-14T09:59:04.913968Z",
     "iopub.status.idle": "2025-01-14T09:59:04.917682Z",
     "shell.execute_reply": "2025-01-14T09:59:04.916933Z",
     "shell.execute_reply.started": "2025-01-14T09:59:04.914261Z"
    },
    "trusted": true
   },
   "outputs": [],
   "source": [
    "# model = tf.keras.Sequential([ \n",
    "#     tf.keras.layers.Conv2D(32,3,input_shape=(28,28,1)),\n",
    "#     tf.keras.layers.MaxPooling2D(2,2),\n",
    "#     tf.keras.layers.Flatten(input_shape=(28,28,1)),\n",
    "#     tf.keras.layers.Dense(512,activation='relu'),\n",
    "#     tf.keras.layers.Dense(128,activation='relu'),\n",
    "#     tf.keras.layers.Dense(number_of_classes,activation='softmax')\n",
    "# ])"
   ]
  },
  {
   "cell_type": "code",
   "execution_count": 28,
   "metadata": {
    "execution": {
     "iopub.execute_input": "2025-01-14T10:09:14.071309Z",
     "iopub.status.busy": "2025-01-14T10:09:14.070978Z",
     "iopub.status.idle": "2025-01-14T10:09:14.370116Z",
     "shell.execute_reply": "2025-01-14T10:09:14.369373Z",
     "shell.execute_reply.started": "2025-01-14T10:09:14.071258Z"
    },
    "trusted": true
   },
   "outputs": [
    {
     "name": "stdout",
     "output_type": "stream",
     "text": [
      "Model: \"sequential_4\"\n",
      "_________________________________________________________________\n",
      "Layer (type)                 Output Shape              Param #   \n",
      "=================================================================\n",
      "conv2d_4 (Conv2D)            (None, 26, 26, 32)        320       \n",
      "_________________________________________________________________\n",
      "batch_normalization_16 (Batc (None, 26, 26, 32)        128       \n",
      "_________________________________________________________________\n",
      "leaky_re_lu_16 (LeakyReLU)   (None, 26, 26, 32)        0         \n",
      "_________________________________________________________________\n",
      "max_pooling2d_4 (MaxPooling2 (None, 13, 13, 32)        0         \n",
      "_________________________________________________________________\n",
      "conv2d_5 (Conv2D)            (None, 11, 11, 64)        18496     \n",
      "_________________________________________________________________\n",
      "batch_normalization_17 (Batc (None, 11, 11, 64)        256       \n",
      "_________________________________________________________________\n",
      "leaky_re_lu_17 (LeakyReLU)   (None, 11, 11, 64)        0         \n",
      "_________________________________________________________________\n",
      "max_pooling2d_5 (MaxPooling2 (None, 5, 5, 64)          0         \n",
      "_________________________________________________________________\n",
      "conv2d_6 (Conv2D)            (None, 3, 3, 128)         73856     \n",
      "_________________________________________________________________\n",
      "batch_normalization_18 (Batc (None, 3, 3, 128)         512       \n",
      "_________________________________________________________________\n",
      "leaky_re_lu_18 (LeakyReLU)   (None, 3, 3, 128)         0         \n",
      "_________________________________________________________________\n",
      "max_pooling2d_6 (MaxPooling2 (None, 1, 1, 128)         0         \n",
      "_________________________________________________________________\n",
      "flatten_2 (Flatten)          (None, 128)               0         \n",
      "_________________________________________________________________\n",
      "dense_16 (Dense)             (None, 512)               66048     \n",
      "_________________________________________________________________\n",
      "batch_normalization_19 (Batc (None, 512)               2048      \n",
      "_________________________________________________________________\n",
      "leaky_re_lu_19 (LeakyReLU)   (None, 512)               0         \n",
      "_________________________________________________________________\n",
      "dropout_9 (Dropout)          (None, 512)               0         \n",
      "_________________________________________________________________\n",
      "dense_17 (Dense)             (None, 128)               65664     \n",
      "_________________________________________________________________\n",
      "batch_normalization_20 (Batc (None, 128)               512       \n",
      "_________________________________________________________________\n",
      "leaky_re_lu_20 (LeakyReLU)   (None, 128)               0         \n",
      "_________________________________________________________________\n",
      "dropout_10 (Dropout)         (None, 128)               0         \n",
      "_________________________________________________________________\n",
      "dense_18 (Dense)             (None, 37)                4773      \n",
      "=================================================================\n",
      "Total params: 232,613\n",
      "Trainable params: 230,885\n",
      "Non-trainable params: 1,728\n",
      "_________________________________________________________________\n"
     ]
    }
   ],
   "source": [
    "from keras.models import Sequential\n",
    "from keras.layers import Conv2D, MaxPooling2D, Flatten, Dense, Dropout, BatchNormalization, LeakyReLU\n",
    "from keras.regularizers import l2\n",
    "\n",
    "# Define the number of classes (adjust based on your EMNIST dataset subset)\n",
    "number_of_classes = 37  # Update this based on your specific EMNIST subset (e.g., Balanced, Letters, Digits)\n",
    "\n",
    "# Build the model\n",
    "model = Sequential()\n",
    "\n",
    "# First convolutional layer with BatchNormalization and LeakyReLU\n",
    "model.add(Conv2D(32, (3, 3), input_shape=(28, 28, 1), kernel_initializer='he_uniform', kernel_regularizer=l2(0.01)))\n",
    "model.add(BatchNormalization())\n",
    "model.add(LeakyReLU(alpha=0.1))\n",
    "model.add(MaxPooling2D((2, 2)))\n",
    "\n",
    "# Second convolutional layer\n",
    "model.add(Conv2D(64, (3, 3), kernel_initializer='he_uniform', kernel_regularizer=l2(0.01)))\n",
    "model.add(BatchNormalization())\n",
    "model.add(LeakyReLU(alpha=0.1))\n",
    "model.add(MaxPooling2D((2, 2)))\n",
    "\n",
    "# Third convolutional layer\n",
    "model.add(Conv2D(128, (3, 3), kernel_initializer='he_uniform', kernel_regularizer=l2(0.01)))\n",
    "model.add(BatchNormalization())\n",
    "model.add(LeakyReLU(alpha=0.1))\n",
    "model.add(MaxPooling2D((2, 2)))\n",
    "\n",
    "# Flatten the feature maps\n",
    "model.add(Flatten())\n",
    "\n",
    "# Fully connected layers with BatchNormalization, LeakyReLU, and Dropout\n",
    "model.add(Dense(512, kernel_initializer='he_uniform', kernel_regularizer=l2(0.01)))\n",
    "model.add(BatchNormalization())\n",
    "model.add(LeakyReLU(alpha=0.1))\n",
    "model.add(Dropout(0.4))\n",
    "\n",
    "model.add(Dense(128, kernel_initializer='he_uniform', kernel_regularizer=l2(0.01)))\n",
    "model.add(BatchNormalization())\n",
    "model.add(LeakyReLU(alpha=0.1))\n",
    "model.add(Dropout(0.4))\n",
    "\n",
    "# Output layer\n",
    "model.add(Dense(number_of_classes, activation='softmax'))\n",
    "\n",
    "# Compile the model\n",
    "model.compile(optimizer='adam', \n",
    "              loss='categorical_crossentropy', \n",
    "              metrics=['accuracy'])\n",
    "\n",
    "# Summary of the model\n",
    "model.summary()\n"
   ]
  },
  {
   "cell_type": "code",
   "execution_count": 29,
   "metadata": {
    "execution": {
     "iopub.execute_input": "2025-01-14T10:09:19.951964Z",
     "iopub.status.busy": "2025-01-14T10:09:19.951662Z",
     "iopub.status.idle": "2025-01-14T10:09:19.991083Z",
     "shell.execute_reply": "2025-01-14T10:09:19.990207Z",
     "shell.execute_reply.started": "2025-01-14T10:09:19.951924Z"
    },
    "trusted": true
   },
   "outputs": [],
   "source": [
    "model.compile(optimizer='rmsprop',loss='categorical_crossentropy',metrics=['accuracy'])"
   ]
  },
  {
   "cell_type": "markdown",
   "metadata": {},
   "source": [
    "## Adding Callback API's to save best weights and change lr"
   ]
  },
  {
   "cell_type": "code",
   "execution_count": 26,
   "metadata": {
    "execution": {
     "iopub.execute_input": "2025-01-14T10:08:17.930403Z",
     "iopub.status.busy": "2025-01-14T10:08:17.930062Z",
     "iopub.status.idle": "2025-01-14T10:08:17.933784Z",
     "shell.execute_reply": "2025-01-14T10:08:17.932917Z",
     "shell.execute_reply.started": "2025-01-14T10:08:17.930336Z"
    },
    "trusted": true
   },
   "outputs": [],
   "source": [
    " \n",
    "# MCP = ModelCheckpoint('Best_points.h5',verbose=1,save_best_only=True,monitor='val_accuracy',mode='max')\n",
    "# ES = EarlyStopping(monitor='val_accuracy',min_delta=0,verbose=0,restore_best_weights = True,patience=3,mode='max')\n",
    "# RLP = ReduceLROnPlateau(monitor='val_loss',patience=3,factor=0.2,min_lr=0.0001)"
   ]
  },
  {
   "cell_type": "code",
   "execution_count": 32,
   "metadata": {
    "execution": {
     "iopub.execute_input": "2025-01-14T10:09:46.875970Z",
     "iopub.status.busy": "2025-01-14T10:09:46.875662Z",
     "iopub.status.idle": "2025-01-14T10:18:37.128724Z",
     "shell.execute_reply": "2025-01-14T10:18:37.127210Z",
     "shell.execute_reply.started": "2025-01-14T10:09:46.875929Z"
    },
    "trusted": true
   },
   "outputs": [
    {
     "name": "stdout",
     "output_type": "stream",
     "text": [
      "Train on 71039 samples, validate on 17760 samples\n",
      "Epoch 1/50\n",
      "71039/71039 [==============================] - 22s 317us/step - loss: 3.1994 - accuracy: 0.7136 - val_loss: 1.2377 - val_accuracy: 0.8014\n",
      "Epoch 2/50\n",
      "71039/71039 [==============================] - 18s 257us/step - loss: 1.2992 - accuracy: 0.7849 - val_loss: 1.1627 - val_accuracy: 0.8173\n",
      "Epoch 3/50\n",
      "71039/71039 [==============================] - 18s 256us/step - loss: 1.2079 - accuracy: 0.7961 - val_loss: 1.1078 - val_accuracy: 0.8152\n",
      "Epoch 4/50\n",
      "71039/71039 [==============================] - 18s 256us/step - loss: 1.1366 - accuracy: 0.8044 - val_loss: 1.0210 - val_accuracy: 0.8302\n",
      "Epoch 5/50\n",
      "71039/71039 [==============================] - 18s 258us/step - loss: 1.0897 - accuracy: 0.8091 - val_loss: 0.9903 - val_accuracy: 0.8313\n",
      "Epoch 6/50\n",
      "71039/71039 [==============================] - 18s 259us/step - loss: 1.0753 - accuracy: 0.8102 - val_loss: 1.0201 - val_accuracy: 0.8246\n",
      "Epoch 7/50\n",
      "71039/71039 [==============================] - 18s 256us/step - loss: 1.0516 - accuracy: 0.8134 - val_loss: 0.8944 - val_accuracy: 0.8522\n",
      "Epoch 8/50\n",
      "71039/71039 [==============================] - 18s 260us/step - loss: 1.0443 - accuracy: 0.8141 - val_loss: 1.0916 - val_accuracy: 0.8061\n",
      "Epoch 9/50\n",
      "71039/71039 [==============================] - 18s 259us/step - loss: 1.0303 - accuracy: 0.8160 - val_loss: 0.9126 - val_accuracy: 0.8465\n",
      "Epoch 10/50\n",
      "71039/71039 [==============================] - 18s 259us/step - loss: 1.0250 - accuracy: 0.8157 - val_loss: 0.9309 - val_accuracy: 0.8349\n",
      "Epoch 11/50\n",
      "71039/71039 [==============================] - 18s 257us/step - loss: 1.0202 - accuracy: 0.8181 - val_loss: 0.9580 - val_accuracy: 0.8279\n",
      "Epoch 12/50\n",
      "71039/71039 [==============================] - 18s 259us/step - loss: 1.0123 - accuracy: 0.8179 - val_loss: 0.8803 - val_accuracy: 0.8470\n",
      "Epoch 13/50\n",
      "71039/71039 [==============================] - 18s 260us/step - loss: 1.0118 - accuracy: 0.8188 - val_loss: 0.8718 - val_accuracy: 0.8495\n",
      "Epoch 14/50\n",
      "71039/71039 [==============================] - 18s 257us/step - loss: 1.0096 - accuracy: 0.8174 - val_loss: 0.9854 - val_accuracy: 0.8191\n",
      "Epoch 15/50\n",
      "71039/71039 [==============================] - 19s 261us/step - loss: 1.0102 - accuracy: 0.8176 - val_loss: 0.8978 - val_accuracy: 0.8423\n",
      "Epoch 16/50\n",
      "71039/71039 [==============================] - 18s 257us/step - loss: 1.0083 - accuracy: 0.8161 - val_loss: 0.9183 - val_accuracy: 0.8443\n",
      "Epoch 17/50\n",
      "71039/71039 [==============================] - 19s 261us/step - loss: 1.0069 - accuracy: 0.8182 - val_loss: 0.9942 - val_accuracy: 0.8253\n",
      "Epoch 18/50\n",
      "71039/71039 [==============================] - 18s 258us/step - loss: 1.0029 - accuracy: 0.8201 - val_loss: 0.9464 - val_accuracy: 0.8388\n",
      "Epoch 19/50\n",
      "71039/71039 [==============================] - 18s 260us/step - loss: 1.0048 - accuracy: 0.8200 - val_loss: 0.8929 - val_accuracy: 0.8507\n",
      "Epoch 20/50\n",
      "71039/71039 [==============================] - 18s 260us/step - loss: 1.0021 - accuracy: 0.8189 - val_loss: 0.9149 - val_accuracy: 0.8313\n",
      "Epoch 21/50\n",
      "71039/71039 [==============================] - 18s 257us/step - loss: 0.9974 - accuracy: 0.8186 - val_loss: 0.9416 - val_accuracy: 0.8291\n",
      "Epoch 22/50\n",
      "71039/71039 [==============================] - 19s 264us/step - loss: 1.0023 - accuracy: 0.8178 - val_loss: 0.8615 - val_accuracy: 0.8537\n",
      "Epoch 23/50\n",
      "71039/71039 [==============================] - 19s 264us/step - loss: 0.9937 - accuracy: 0.8188 - val_loss: 1.1598 - val_accuracy: 0.7654\n",
      "Epoch 24/50\n",
      "71039/71039 [==============================] - 19s 266us/step - loss: 1.0007 - accuracy: 0.8188 - val_loss: 0.8994 - val_accuracy: 0.8439\n",
      "Epoch 25/50\n",
      "71039/71039 [==============================] - 19s 268us/step - loss: 0.9974 - accuracy: 0.8206 - val_loss: 0.8869 - val_accuracy: 0.8395\n",
      "Epoch 26/50\n",
      "71039/71039 [==============================] - 19s 265us/step - loss: 1.0020 - accuracy: 0.8198 - val_loss: 0.8794 - val_accuracy: 0.8472\n",
      "Epoch 27/50\n",
      "71039/71039 [==============================] - 19s 266us/step - loss: 1.0031 - accuracy: 0.8181 - val_loss: 0.8823 - val_accuracy: 0.8470\n",
      "Epoch 28/50\n",
      "71039/71039 [==============================] - 19s 264us/step - loss: 0.9965 - accuracy: 0.8193 - val_loss: 0.9160 - val_accuracy: 0.8369\n",
      "Epoch 29/50\n",
      "36384/71039 [==============>...............] - ETA: 8s - loss: 0.9925 - accuracy: 0.8194"
     ]
    },
    {
     "ename": "KeyboardInterrupt",
     "evalue": "",
     "output_type": "error",
     "traceback": [
      "\u001b[0;31m---------------------------------------------------------------------------\u001b[0m",
      "\u001b[0;31mKeyboardInterrupt\u001b[0m                         Traceback (most recent call last)",
      "\u001b[0;32m<ipython-input-32-176d631801bb>\u001b[0m in \u001b[0;36m<module>\u001b[0;34m\u001b[0m\n\u001b[1;32m      1\u001b[0m \u001b[0;31m# history = model.fit(train_x,train_y,epochs=50,validation_data=(test_x,test_y),callbacks=[MCP,ES,RLP])\u001b[0m\u001b[0;34m\u001b[0m\u001b[0;34m\u001b[0m\u001b[0;34m\u001b[0m\u001b[0m\n\u001b[0;32m----> 2\u001b[0;31m \u001b[0mhistory\u001b[0m \u001b[0;34m=\u001b[0m \u001b[0mmodel\u001b[0m\u001b[0;34m.\u001b[0m\u001b[0mfit\u001b[0m\u001b[0;34m(\u001b[0m\u001b[0mtrain_x\u001b[0m\u001b[0;34m,\u001b[0m\u001b[0mtrain_y\u001b[0m\u001b[0;34m,\u001b[0m\u001b[0mepochs\u001b[0m\u001b[0;34m=\u001b[0m\u001b[0;36m50\u001b[0m\u001b[0;34m,\u001b[0m\u001b[0mvalidation_data\u001b[0m\u001b[0;34m=\u001b[0m\u001b[0;34m(\u001b[0m\u001b[0mtest_x\u001b[0m\u001b[0;34m,\u001b[0m\u001b[0mtest_y\u001b[0m\u001b[0;34m)\u001b[0m\u001b[0;34m)\u001b[0m\u001b[0;34m\u001b[0m\u001b[0;34m\u001b[0m\u001b[0m\n\u001b[0m",
      "\u001b[0;32m/opt/conda/lib/python3.7/site-packages/keras/engine/training.py\u001b[0m in \u001b[0;36mfit\u001b[0;34m(self, x, y, batch_size, epochs, verbose, callbacks, validation_split, validation_data, shuffle, class_weight, sample_weight, initial_epoch, steps_per_epoch, validation_steps, validation_freq, max_queue_size, workers, use_multiprocessing, **kwargs)\u001b[0m\n\u001b[1;32m   1237\u001b[0m                                         \u001b[0msteps_per_epoch\u001b[0m\u001b[0;34m=\u001b[0m\u001b[0msteps_per_epoch\u001b[0m\u001b[0;34m,\u001b[0m\u001b[0;34m\u001b[0m\u001b[0;34m\u001b[0m\u001b[0m\n\u001b[1;32m   1238\u001b[0m                                         \u001b[0mvalidation_steps\u001b[0m\u001b[0;34m=\u001b[0m\u001b[0mvalidation_steps\u001b[0m\u001b[0;34m,\u001b[0m\u001b[0;34m\u001b[0m\u001b[0;34m\u001b[0m\u001b[0m\n\u001b[0;32m-> 1239\u001b[0;31m                                         validation_freq=validation_freq)\n\u001b[0m\u001b[1;32m   1240\u001b[0m \u001b[0;34m\u001b[0m\u001b[0m\n\u001b[1;32m   1241\u001b[0m     def evaluate(self,\n",
      "\u001b[0;32m/opt/conda/lib/python3.7/site-packages/keras/engine/training_arrays.py\u001b[0m in \u001b[0;36mfit_loop\u001b[0;34m(model, fit_function, fit_inputs, out_labels, batch_size, epochs, verbose, callbacks, val_function, val_inputs, shuffle, initial_epoch, steps_per_epoch, validation_steps, validation_freq)\u001b[0m\n\u001b[1;32m    194\u001b[0m                     \u001b[0mins_batch\u001b[0m\u001b[0;34m[\u001b[0m\u001b[0mi\u001b[0m\u001b[0;34m]\u001b[0m \u001b[0;34m=\u001b[0m \u001b[0mins_batch\u001b[0m\u001b[0;34m[\u001b[0m\u001b[0mi\u001b[0m\u001b[0;34m]\u001b[0m\u001b[0;34m.\u001b[0m\u001b[0mtoarray\u001b[0m\u001b[0;34m(\u001b[0m\u001b[0;34m)\u001b[0m\u001b[0;34m\u001b[0m\u001b[0;34m\u001b[0m\u001b[0m\n\u001b[1;32m    195\u001b[0m \u001b[0;34m\u001b[0m\u001b[0m\n\u001b[0;32m--> 196\u001b[0;31m                 \u001b[0mouts\u001b[0m \u001b[0;34m=\u001b[0m \u001b[0mfit_function\u001b[0m\u001b[0;34m(\u001b[0m\u001b[0mins_batch\u001b[0m\u001b[0;34m)\u001b[0m\u001b[0;34m\u001b[0m\u001b[0;34m\u001b[0m\u001b[0m\n\u001b[0m\u001b[1;32m    197\u001b[0m                 \u001b[0mouts\u001b[0m \u001b[0;34m=\u001b[0m \u001b[0mto_list\u001b[0m\u001b[0;34m(\u001b[0m\u001b[0mouts\u001b[0m\u001b[0;34m)\u001b[0m\u001b[0;34m\u001b[0m\u001b[0;34m\u001b[0m\u001b[0m\n\u001b[1;32m    198\u001b[0m                 \u001b[0;32mfor\u001b[0m \u001b[0ml\u001b[0m\u001b[0;34m,\u001b[0m \u001b[0mo\u001b[0m \u001b[0;32min\u001b[0m \u001b[0mzip\u001b[0m\u001b[0;34m(\u001b[0m\u001b[0mout_labels\u001b[0m\u001b[0;34m,\u001b[0m \u001b[0mouts\u001b[0m\u001b[0;34m)\u001b[0m\u001b[0;34m:\u001b[0m\u001b[0;34m\u001b[0m\u001b[0;34m\u001b[0m\u001b[0m\n",
      "\u001b[0;32m/opt/conda/lib/python3.7/site-packages/tensorflow_core/python/keras/backend.py\u001b[0m in \u001b[0;36m__call__\u001b[0;34m(self, inputs)\u001b[0m\n\u001b[1;32m   3725\u001b[0m         \u001b[0mvalue\u001b[0m \u001b[0;34m=\u001b[0m \u001b[0mmath_ops\u001b[0m\u001b[0;34m.\u001b[0m\u001b[0mcast\u001b[0m\u001b[0;34m(\u001b[0m\u001b[0mvalue\u001b[0m\u001b[0;34m,\u001b[0m \u001b[0mtensor\u001b[0m\u001b[0;34m.\u001b[0m\u001b[0mdtype\u001b[0m\u001b[0;34m)\u001b[0m\u001b[0;34m\u001b[0m\u001b[0;34m\u001b[0m\u001b[0m\n\u001b[1;32m   3726\u001b[0m       \u001b[0mconverted_inputs\u001b[0m\u001b[0;34m.\u001b[0m\u001b[0mappend\u001b[0m\u001b[0;34m(\u001b[0m\u001b[0mvalue\u001b[0m\u001b[0;34m)\u001b[0m\u001b[0;34m\u001b[0m\u001b[0;34m\u001b[0m\u001b[0m\n\u001b[0;32m-> 3727\u001b[0;31m     \u001b[0moutputs\u001b[0m \u001b[0;34m=\u001b[0m \u001b[0mself\u001b[0m\u001b[0;34m.\u001b[0m\u001b[0m_graph_fn\u001b[0m\u001b[0;34m(\u001b[0m\u001b[0;34m*\u001b[0m\u001b[0mconverted_inputs\u001b[0m\u001b[0;34m)\u001b[0m\u001b[0;34m\u001b[0m\u001b[0;34m\u001b[0m\u001b[0m\n\u001b[0m\u001b[1;32m   3728\u001b[0m \u001b[0;34m\u001b[0m\u001b[0m\n\u001b[1;32m   3729\u001b[0m     \u001b[0;31m# EagerTensor.numpy() will often make a copy to ensure memory safety.\u001b[0m\u001b[0;34m\u001b[0m\u001b[0;34m\u001b[0m\u001b[0;34m\u001b[0m\u001b[0m\n",
      "\u001b[0;32m/opt/conda/lib/python3.7/site-packages/tensorflow_core/python/eager/function.py\u001b[0m in \u001b[0;36m__call__\u001b[0;34m(self, *args, **kwargs)\u001b[0m\n\u001b[1;32m   1549\u001b[0m       \u001b[0mTypeError\u001b[0m\u001b[0;34m:\u001b[0m \u001b[0mFor\u001b[0m \u001b[0minvalid\u001b[0m \u001b[0mpositional\u001b[0m\u001b[0;34m/\u001b[0m\u001b[0mkeyword\u001b[0m \u001b[0margument\u001b[0m \u001b[0mcombinations\u001b[0m\u001b[0;34m.\u001b[0m\u001b[0;34m\u001b[0m\u001b[0;34m\u001b[0m\u001b[0m\n\u001b[1;32m   1550\u001b[0m     \"\"\"\n\u001b[0;32m-> 1551\u001b[0;31m     \u001b[0;32mreturn\u001b[0m \u001b[0mself\u001b[0m\u001b[0;34m.\u001b[0m\u001b[0m_call_impl\u001b[0m\u001b[0;34m(\u001b[0m\u001b[0margs\u001b[0m\u001b[0;34m,\u001b[0m \u001b[0mkwargs\u001b[0m\u001b[0;34m)\u001b[0m\u001b[0;34m\u001b[0m\u001b[0;34m\u001b[0m\u001b[0m\n\u001b[0m\u001b[1;32m   1552\u001b[0m \u001b[0;34m\u001b[0m\u001b[0m\n\u001b[1;32m   1553\u001b[0m   \u001b[0;32mdef\u001b[0m \u001b[0m_call_impl\u001b[0m\u001b[0;34m(\u001b[0m\u001b[0mself\u001b[0m\u001b[0;34m,\u001b[0m \u001b[0margs\u001b[0m\u001b[0;34m,\u001b[0m \u001b[0mkwargs\u001b[0m\u001b[0;34m,\u001b[0m \u001b[0mcancellation_manager\u001b[0m\u001b[0;34m=\u001b[0m\u001b[0;32mNone\u001b[0m\u001b[0;34m)\u001b[0m\u001b[0;34m:\u001b[0m\u001b[0;34m\u001b[0m\u001b[0;34m\u001b[0m\u001b[0m\n",
      "\u001b[0;32m/opt/conda/lib/python3.7/site-packages/tensorflow_core/python/eager/function.py\u001b[0m in \u001b[0;36m_call_impl\u001b[0;34m(self, args, kwargs, cancellation_manager)\u001b[0m\n\u001b[1;32m   1589\u001b[0m       raise TypeError(\"Keyword arguments {} unknown. Expected {}.\".format(\n\u001b[1;32m   1590\u001b[0m           list(kwargs.keys()), list(self._arg_keywords)))\n\u001b[0;32m-> 1591\u001b[0;31m     \u001b[0;32mreturn\u001b[0m \u001b[0mself\u001b[0m\u001b[0;34m.\u001b[0m\u001b[0m_call_flat\u001b[0m\u001b[0;34m(\u001b[0m\u001b[0margs\u001b[0m\u001b[0;34m,\u001b[0m \u001b[0mself\u001b[0m\u001b[0;34m.\u001b[0m\u001b[0mcaptured_inputs\u001b[0m\u001b[0;34m,\u001b[0m \u001b[0mcancellation_manager\u001b[0m\u001b[0;34m)\u001b[0m\u001b[0;34m\u001b[0m\u001b[0;34m\u001b[0m\u001b[0m\n\u001b[0m\u001b[1;32m   1592\u001b[0m \u001b[0;34m\u001b[0m\u001b[0m\n\u001b[1;32m   1593\u001b[0m   \u001b[0;32mdef\u001b[0m \u001b[0m_filtered_call\u001b[0m\u001b[0;34m(\u001b[0m\u001b[0mself\u001b[0m\u001b[0;34m,\u001b[0m \u001b[0margs\u001b[0m\u001b[0;34m,\u001b[0m \u001b[0mkwargs\u001b[0m\u001b[0;34m)\u001b[0m\u001b[0;34m:\u001b[0m\u001b[0;34m\u001b[0m\u001b[0;34m\u001b[0m\u001b[0m\n",
      "\u001b[0;32m/opt/conda/lib/python3.7/site-packages/tensorflow_core/python/eager/function.py\u001b[0m in \u001b[0;36m_call_flat\u001b[0;34m(self, args, captured_inputs, cancellation_manager)\u001b[0m\n\u001b[1;32m   1690\u001b[0m       \u001b[0;31m# No tape is watching; skip to running the function.\u001b[0m\u001b[0;34m\u001b[0m\u001b[0;34m\u001b[0m\u001b[0;34m\u001b[0m\u001b[0m\n\u001b[1;32m   1691\u001b[0m       return self._build_call_outputs(self._inference_function.call(\n\u001b[0;32m-> 1692\u001b[0;31m           ctx, args, cancellation_manager=cancellation_manager))\n\u001b[0m\u001b[1;32m   1693\u001b[0m     forward_backward = self._select_forward_and_backward_functions(\n\u001b[1;32m   1694\u001b[0m         \u001b[0margs\u001b[0m\u001b[0;34m,\u001b[0m\u001b[0;34m\u001b[0m\u001b[0;34m\u001b[0m\u001b[0m\n",
      "\u001b[0;32m/opt/conda/lib/python3.7/site-packages/tensorflow_core/python/eager/function.py\u001b[0m in \u001b[0;36mcall\u001b[0;34m(self, ctx, args, cancellation_manager)\u001b[0m\n\u001b[1;32m    543\u001b[0m               \u001b[0minputs\u001b[0m\u001b[0;34m=\u001b[0m\u001b[0margs\u001b[0m\u001b[0;34m,\u001b[0m\u001b[0;34m\u001b[0m\u001b[0;34m\u001b[0m\u001b[0m\n\u001b[1;32m    544\u001b[0m               \u001b[0mattrs\u001b[0m\u001b[0;34m=\u001b[0m\u001b[0;34m(\u001b[0m\u001b[0;34m\"executor_type\"\u001b[0m\u001b[0;34m,\u001b[0m \u001b[0mexecutor_type\u001b[0m\u001b[0;34m,\u001b[0m \u001b[0;34m\"config_proto\"\u001b[0m\u001b[0;34m,\u001b[0m \u001b[0mconfig\u001b[0m\u001b[0;34m)\u001b[0m\u001b[0;34m,\u001b[0m\u001b[0;34m\u001b[0m\u001b[0;34m\u001b[0m\u001b[0m\n\u001b[0;32m--> 545\u001b[0;31m               ctx=ctx)\n\u001b[0m\u001b[1;32m    546\u001b[0m         \u001b[0;32melse\u001b[0m\u001b[0;34m:\u001b[0m\u001b[0;34m\u001b[0m\u001b[0;34m\u001b[0m\u001b[0m\n\u001b[1;32m    547\u001b[0m           outputs = execute.execute_with_cancellation(\n",
      "\u001b[0;32m/opt/conda/lib/python3.7/site-packages/tensorflow_core/python/eager/execute.py\u001b[0m in \u001b[0;36mquick_execute\u001b[0;34m(op_name, num_outputs, inputs, attrs, ctx, name)\u001b[0m\n\u001b[1;32m     59\u001b[0m     tensors = pywrap_tensorflow.TFE_Py_Execute(ctx._handle, device_name,\n\u001b[1;32m     60\u001b[0m                                                \u001b[0mop_name\u001b[0m\u001b[0;34m,\u001b[0m \u001b[0minputs\u001b[0m\u001b[0;34m,\u001b[0m \u001b[0mattrs\u001b[0m\u001b[0;34m,\u001b[0m\u001b[0;34m\u001b[0m\u001b[0;34m\u001b[0m\u001b[0m\n\u001b[0;32m---> 61\u001b[0;31m                                                num_outputs)\n\u001b[0m\u001b[1;32m     62\u001b[0m   \u001b[0;32mexcept\u001b[0m \u001b[0mcore\u001b[0m\u001b[0;34m.\u001b[0m\u001b[0m_NotOkStatusException\u001b[0m \u001b[0;32mas\u001b[0m \u001b[0me\u001b[0m\u001b[0;34m:\u001b[0m\u001b[0;34m\u001b[0m\u001b[0;34m\u001b[0m\u001b[0m\n\u001b[1;32m     63\u001b[0m     \u001b[0;32mif\u001b[0m \u001b[0mname\u001b[0m \u001b[0;32mis\u001b[0m \u001b[0;32mnot\u001b[0m \u001b[0;32mNone\u001b[0m\u001b[0;34m:\u001b[0m\u001b[0;34m\u001b[0m\u001b[0;34m\u001b[0m\u001b[0m\n",
      "\u001b[0;31mKeyboardInterrupt\u001b[0m: "
     ]
    }
   ],
   "source": [
    "# history = model.fit(train_x,train_y,epochs=50,validation_data=(test_x,test_y),callbacks=[MCP,ES,RLP])\n",
    "history = model.fit(train_x,train_y,epochs=50,validation_data=(test_x,test_y))\n"
   ]
  },
  {
   "cell_type": "markdown",
   "metadata": {},
   "source": [
    "## Adding Callback API's to save best weights and change lr"
   ]
  },
  {
   "cell_type": "code",
   "execution_count": 37,
   "metadata": {
    "execution": {
     "iopub.execute_input": "2025-01-14T10:22:30.511160Z",
     "iopub.status.busy": "2025-01-14T10:22:30.510854Z",
     "iopub.status.idle": "2025-01-14T10:22:30.516311Z",
     "shell.execute_reply": "2025-01-14T10:22:30.515572Z",
     "shell.execute_reply.started": "2025-01-14T10:22:30.511122Z"
    },
    "trusted": true
   },
   "outputs": [],
   "source": [
    "from keras.callbacks import ModelCheckpoint, EarlyStopping, ReduceLROnPlateau\n",
    "\n",
    "MCP = ModelCheckpoint('Best_points.h5',verbose=1,save_best_only=True,monitor='val_accuracy',mode='max')\n",
    "ES = EarlyStopping(monitor='val_accuracy',min_delta=0,verbose=0,restore_best_weights = True,patience=3,mode='max')\n",
    "RLP = ReduceLROnPlateau(monitor='val_loss',patience=3,factor=0.2,min_lr=0.0001)"
   ]
  },
  {
   "cell_type": "code",
   "execution_count": 38,
   "metadata": {
    "execution": {
     "iopub.execute_input": "2025-01-14T10:22:31.125386Z",
     "iopub.status.busy": "2025-01-14T10:22:31.125041Z",
     "iopub.status.idle": "2025-01-14T10:25:58.847134Z",
     "shell.execute_reply": "2025-01-14T10:25:58.846257Z",
     "shell.execute_reply.started": "2025-01-14T10:22:31.125333Z"
    },
    "trusted": true
   },
   "outputs": [
    {
     "name": "stdout",
     "output_type": "stream",
     "text": [
      "Train on 71039 samples, validate on 17760 samples\n",
      "Epoch 1/50\n",
      "71039/71039 [==============================] - 19s 270us/step - loss: 0.9980 - accuracy: 0.8206 - val_loss: 0.9372 - val_accuracy: 0.8320\n",
      "\n",
      "Epoch 00001: val_accuracy improved from -inf to 0.83198, saving model to Best_points.h5\n",
      "Epoch 2/50\n",
      "71039/71039 [==============================] - 19s 263us/step - loss: 0.9987 - accuracy: 0.8198 - val_loss: 0.8951 - val_accuracy: 0.8443\n",
      "\n",
      "Epoch 00002: val_accuracy improved from 0.83198 to 0.84426, saving model to Best_points.h5\n",
      "Epoch 3/50\n",
      "71039/71039 [==============================] - 19s 266us/step - loss: 0.9880 - accuracy: 0.8201 - val_loss: 0.9413 - val_accuracy: 0.8320\n",
      "\n",
      "Epoch 00003: val_accuracy did not improve from 0.84426\n",
      "Epoch 4/50\n",
      "71039/71039 [==============================] - 19s 264us/step - loss: 0.9889 - accuracy: 0.8199 - val_loss: 0.9400 - val_accuracy: 0.8291\n",
      "\n",
      "Epoch 00004: val_accuracy did not improve from 0.84426\n",
      "Epoch 5/50\n",
      "71039/71039 [==============================] - 19s 267us/step - loss: 0.9979 - accuracy: 0.8192 - val_loss: 0.8713 - val_accuracy: 0.8505\n",
      "\n",
      "Epoch 00005: val_accuracy improved from 0.84426 to 0.85051, saving model to Best_points.h5\n",
      "Epoch 6/50\n",
      "71039/71039 [==============================] - 19s 265us/step - loss: 0.9953 - accuracy: 0.8194 - val_loss: 0.9210 - val_accuracy: 0.8378\n",
      "\n",
      "Epoch 00006: val_accuracy did not improve from 0.85051\n",
      "Epoch 7/50\n",
      "71039/71039 [==============================] - 19s 266us/step - loss: 0.9966 - accuracy: 0.8183 - val_loss: 0.8936 - val_accuracy: 0.8442\n",
      "\n",
      "Epoch 00007: val_accuracy did not improve from 0.85051\n",
      "Epoch 8/50\n",
      "71039/71039 [==============================] - 19s 266us/step - loss: 0.9855 - accuracy: 0.8196 - val_loss: 0.8701 - val_accuracy: 0.8542\n",
      "\n",
      "Epoch 00008: val_accuracy improved from 0.85051 to 0.85422, saving model to Best_points.h5\n",
      "Epoch 9/50\n",
      "71039/71039 [==============================] - 19s 264us/step - loss: 0.9957 - accuracy: 0.8198 - val_loss: 0.8935 - val_accuracy: 0.8399\n",
      "\n",
      "Epoch 00009: val_accuracy did not improve from 0.85422\n",
      "Epoch 10/50\n",
      "71039/71039 [==============================] - 19s 264us/step - loss: 0.9859 - accuracy: 0.8187 - val_loss: 0.8996 - val_accuracy: 0.8437\n",
      "\n",
      "Epoch 00010: val_accuracy did not improve from 0.85422\n",
      "Epoch 11/50\n",
      "71039/71039 [==============================] - 19s 265us/step - loss: 0.9887 - accuracy: 0.8190 - val_loss: 0.9183 - val_accuracy: 0.8363\n",
      "\n",
      "Epoch 00011: val_accuracy did not improve from 0.85422\n"
     ]
    }
   ],
   "source": [
    "history = model.fit(train_x,train_y,epochs=50,validation_data=(test_x,test_y),callbacks=[MCP,ES,RLP])"
   ]
  },
  {
   "cell_type": "code",
   "execution_count": null,
   "metadata": {
    "trusted": true
   },
   "outputs": [],
   "source": []
  },
  {
   "cell_type": "code",
   "execution_count": null,
   "metadata": {
    "trusted": true
   },
   "outputs": [],
   "source": []
  },
  {
   "cell_type": "code",
   "execution_count": null,
   "metadata": {
    "trusted": true
   },
   "outputs": [],
   "source": []
  },
  {
   "cell_type": "code",
   "execution_count": null,
   "metadata": {
    "trusted": true
   },
   "outputs": [],
   "source": []
  },
  {
   "cell_type": "code",
   "execution_count": null,
   "metadata": {
    "trusted": true
   },
   "outputs": [],
   "source": []
  },
  {
   "cell_type": "code",
   "execution_count": null,
   "metadata": {
    "trusted": true
   },
   "outputs": [],
   "source": []
  },
  {
   "cell_type": "code",
   "execution_count": 39,
   "metadata": {
    "execution": {
     "iopub.execute_input": "2025-01-14T10:28:44.176344Z",
     "iopub.status.busy": "2025-01-14T10:28:44.175860Z",
     "iopub.status.idle": "2025-01-14T10:28:44.261267Z",
     "shell.execute_reply": "2025-01-14T10:28:44.260449Z",
     "shell.execute_reply.started": "2025-01-14T10:28:44.176286Z"
    },
    "trusted": true
   },
   "outputs": [],
   "source": [
    "import seaborn as sns"
   ]
  },
  {
   "cell_type": "code",
   "execution_count": 40,
   "metadata": {
    "execution": {
     "iopub.execute_input": "2025-01-14T10:28:44.264531Z",
     "iopub.status.busy": "2025-01-14T10:28:44.264156Z",
     "iopub.status.idle": "2025-01-14T10:28:44.458461Z",
     "shell.execute_reply": "2025-01-14T10:28:44.457573Z",
     "shell.execute_reply.started": "2025-01-14T10:28:44.264459Z"
    },
    "trusted": true
   },
   "outputs": [
    {
     "data": {
      "text/plain": [
       "Text(0, 0.5, 'Accuray')"
      ]
     },
     "execution_count": 40,
     "metadata": {},
     "output_type": "execute_result"
    },
    {
     "data": {
      "image/png": "[encoded data removed]",
      "text/plain": [
       "<Figure size 432x288 with 1 Axes>"
      ]
     },
     "metadata": {
      "needs_background": "light"
     },
     "output_type": "display_data"
    }
   ],
   "source": [
    "q = len(history.history['accuracy'])\n",
    "\n",
    "plt.figsize=(10,10)\n",
    "sns.lineplot(x = range(1,1+q),y = history.history['accuracy'], label='Accuracy')\n",
    "sns.lineplot(x = range(1,1+q),y = history.history['val_accuracy'], label='Val_Accuracy')\n",
    "plt.xlabel('epochs')\n",
    "plt.ylabel('Accuray')"
   ]
  },
  {
   "cell_type": "code",
   "execution_count": 41,
   "metadata": {
    "execution": {
     "iopub.execute_input": "2025-01-14T10:28:44.460205Z",
     "iopub.status.busy": "2025-01-14T10:28:44.459777Z",
     "iopub.status.idle": "2025-01-14T10:28:45.245665Z",
     "shell.execute_reply": "2025-01-14T10:28:45.244995Z",
     "shell.execute_reply.started": "2025-01-14T10:28:44.460120Z"
    },
    "trusted": true
   },
   "outputs": [],
   "source": [
    "train_x2,test_x2,train_y2,test_y2 = train_test_split(train_images,y1,test_size=0.15,random_state = 42)"
   ]
  },
  {
   "cell_type": "code",
   "execution_count": 42,
   "metadata": {
    "execution": {
     "iopub.execute_input": "2025-01-14T10:28:45.247235Z",
     "iopub.status.busy": "2025-01-14T10:28:45.246997Z",
     "iopub.status.idle": "2025-01-14T10:31:59.625432Z",
     "shell.execute_reply": "2025-01-14T10:31:59.624637Z",
     "shell.execute_reply.started": "2025-01-14T10:28:45.247199Z"
    },
    "trusted": true
   },
   "outputs": [
    {
     "name": "stdout",
     "output_type": "stream",
     "text": [
      "Train on 75479 samples, validate on 13320 samples\n",
      "Epoch 1/10\n",
      "75479/75479 [==============================] - 19s 256us/step - loss: 0.7385 - accuracy: 0.8648 - val_loss: 0.5596 - val_accuracy: 0.8942\n",
      "Epoch 2/10\n",
      "75479/75479 [==============================] - 20s 259us/step - loss: 0.6334 - accuracy: 0.8755 - val_loss: 0.5288 - val_accuracy: 0.8973\n",
      "Epoch 3/10\n",
      "75479/75479 [==============================] - 19s 256us/step - loss: 0.6015 - accuracy: 0.8741 - val_loss: 0.5119 - val_accuracy: 0.8980\n",
      "Epoch 4/10\n",
      "75479/75479 [==============================] - 19s 256us/step - loss: 0.5906 - accuracy: 0.8755 - val_loss: 0.5050 - val_accuracy: 0.8957\n",
      "Epoch 5/10\n",
      "75479/75479 [==============================] - 19s 258us/step - loss: 0.5844 - accuracy: 0.8772 - val_loss: 0.5001 - val_accuracy: 0.8979\n",
      "Epoch 6/10\n",
      "75479/75479 [==============================] - 19s 257us/step - loss: 0.5805 - accuracy: 0.8776 - val_loss: 0.4965 - val_accuracy: 0.8982\n",
      "Epoch 7/10\n",
      "75479/75479 [==============================] - 19s 257us/step - loss: 0.5843 - accuracy: 0.8759 - val_loss: 0.5004 - val_accuracy: 0.8944\n",
      "Epoch 8/10\n",
      "75479/75479 [==============================] - 20s 260us/step - loss: 0.5789 - accuracy: 0.8779 - val_loss: 0.5218 - val_accuracy: 0.8939\n",
      "Epoch 9/10\n",
      "75479/75479 [==============================] - 19s 256us/step - loss: 0.5795 - accuracy: 0.8778 - val_loss: 0.5130 - val_accuracy: 0.8897\n",
      "Epoch 10/10\n",
      "75479/75479 [==============================] - 20s 259us/step - loss: 0.5774 - accuracy: 0.8763 - val_loss: 0.5001 - val_accuracy: 0.8944\n"
     ]
    }
   ],
   "source": [
    "history1 = model.fit(train_x2,train_y2,epochs=10,validation_data=(test_x2,test_y2))"
   ]
  },
  {
   "cell_type": "code",
   "execution_count": 43,
   "metadata": {
    "execution": {
     "iopub.execute_input": "2025-01-14T10:31:59.627237Z",
     "iopub.status.busy": "2025-01-14T10:31:59.627011Z",
     "iopub.status.idle": "2025-01-14T10:31:59.806340Z",
     "shell.execute_reply": "2025-01-14T10:31:59.805498Z",
     "shell.execute_reply.started": "2025-01-14T10:31:59.627202Z"
    },
    "trusted": true
   },
   "outputs": [
    {
     "data": {
      "text/plain": [
       "Text(0, 0.5, 'Accuray')"
      ]
     },
     "execution_count": 43,
     "metadata": {},
     "output_type": "execute_result"
    },
    {
     "data": {
      "image/png": "[encoded data removed]",
      "text/plain": [
       "<Figure size 432x288 with 1 Axes>"
      ]
     },
     "metadata": {
      "needs_background": "light"
     },
     "output_type": "display_data"
    }
   ],
   "source": [
    "q = len(history1.history['accuracy'])\n",
    "\n",
    "plt.figsize=(10,10)\n",
    "sns.lineplot(x = range(1,1+q),y = history1.history['accuracy'], label='Accuracy')\n",
    "sns.lineplot(x = range(1,1+q),y = history1.history['val_accuracy'], label='Val_Accuracy')\n",
    "plt.xlabel('epochs')\n",
    "plt.ylabel('Accuray')"
   ]
  },
  {
   "cell_type": "code",
   "execution_count": null,
   "metadata": {
    "trusted": true
   },
   "outputs": [],
   "source": []
  }
 ],
 "metadata": {
  "kaggle": {
   "accelerator": "none",
   "dataSources": [
    {
     "datasetId": 7160,
     "sourceId": 10705,
     "sourceType": "datasetVersion"
    }
   ],
   "dockerImageVersionId": 29907,
   "isGpuEnabled": false,
   "isInternetEnabled": true,
   "language": "python",
   "sourceType": "notebook"
  },
  "kernelspec": {
   "display_name": "Python 3",
   "language": "python",
   "name": "python3"
  },
  "language_info": {
   "codemirror_mode": {
    "name": "ipython",
    "version": 3
   },
   "file_extension": ".py",
   "mimetype": "text/x-python",
   "name": "python",
   "nbconvert_exporter": "python",
   "pygments_lexer": "ipython3",
   "version": "3.7.6"
  }
 },
 "nbformat": 4,
 "nbformat_minor": 4
}
